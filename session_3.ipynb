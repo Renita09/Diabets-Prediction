{
  "cells": [
    {
      "cell_type": "markdown",
      "metadata": {
        "id": "view-in-github",
        "colab_type": "text"
      },
      "source": [
        "<a href=\"https://colab.research.google.com/github/Renita09/Diabets-Prediction/blob/main/session_3.ipynb\" target=\"_parent\"><img src=\"https://colab.research.google.com/assets/colab-badge.svg\" alt=\"Open In Colab\"/></a>"
      ]
    },
    {
      "cell_type": "code",
      "execution_count": null,
      "id": "97688f55",
      "metadata": {
        "id": "97688f55"
      },
      "outputs": [],
      "source": [
        "import numpy as np\n",
        "import pandas as pd\n",
        "import matplotlib.pyplot as plt\n",
        "import seaborn as sns\n",
        "from sklearn import metrics\n",
        "sns.set()"
      ]
    },
    {
      "cell_type": "code",
      "execution_count": null,
      "id": "61b03dec",
      "metadata": {
        "scrolled": true,
        "id": "61b03dec",
        "outputId": "906b81a5-0519-4d9c-fd0e-c3497e857237"
      },
      "outputs": [
        {
          "data": {
            "text/html": [
              "<div>\n",
              "<style scoped>\n",
              "    .dataframe tbody tr th:only-of-type {\n",
              "        vertical-align: middle;\n",
              "    }\n",
              "\n",
              "    .dataframe tbody tr th {\n",
              "        vertical-align: top;\n",
              "    }\n",
              "\n",
              "    .dataframe thead th {\n",
              "        text-align: right;\n",
              "    }\n",
              "</style>\n",
              "<table border=\"1\" class=\"dataframe\">\n",
              "  <thead>\n",
              "    <tr style=\"text-align: right;\">\n",
              "      <th></th>\n",
              "      <th>Pregnancies</th>\n",
              "      <th>Glucose</th>\n",
              "      <th>BloodPressure</th>\n",
              "      <th>SkinThickness</th>\n",
              "      <th>Insulin</th>\n",
              "      <th>BMI</th>\n",
              "      <th>DiabetesPedigreeFunction</th>\n",
              "      <th>Age</th>\n",
              "      <th>Outcome</th>\n",
              "    </tr>\n",
              "  </thead>\n",
              "  <tbody>\n",
              "    <tr>\n",
              "      <th>0</th>\n",
              "      <td>6</td>\n",
              "      <td>148</td>\n",
              "      <td>72</td>\n",
              "      <td>35</td>\n",
              "      <td>0</td>\n",
              "      <td>33.6</td>\n",
              "      <td>0.627</td>\n",
              "      <td>50</td>\n",
              "      <td>1</td>\n",
              "    </tr>\n",
              "    <tr>\n",
              "      <th>1</th>\n",
              "      <td>1</td>\n",
              "      <td>85</td>\n",
              "      <td>66</td>\n",
              "      <td>29</td>\n",
              "      <td>0</td>\n",
              "      <td>26.6</td>\n",
              "      <td>0.351</td>\n",
              "      <td>31</td>\n",
              "      <td>0</td>\n",
              "    </tr>\n",
              "    <tr>\n",
              "      <th>2</th>\n",
              "      <td>8</td>\n",
              "      <td>183</td>\n",
              "      <td>64</td>\n",
              "      <td>0</td>\n",
              "      <td>0</td>\n",
              "      <td>23.3</td>\n",
              "      <td>0.672</td>\n",
              "      <td>32</td>\n",
              "      <td>1</td>\n",
              "    </tr>\n",
              "    <tr>\n",
              "      <th>3</th>\n",
              "      <td>1</td>\n",
              "      <td>89</td>\n",
              "      <td>66</td>\n",
              "      <td>23</td>\n",
              "      <td>94</td>\n",
              "      <td>28.1</td>\n",
              "      <td>0.167</td>\n",
              "      <td>21</td>\n",
              "      <td>0</td>\n",
              "    </tr>\n",
              "    <tr>\n",
              "      <th>4</th>\n",
              "      <td>0</td>\n",
              "      <td>137</td>\n",
              "      <td>40</td>\n",
              "      <td>35</td>\n",
              "      <td>168</td>\n",
              "      <td>43.1</td>\n",
              "      <td>2.288</td>\n",
              "      <td>33</td>\n",
              "      <td>1</td>\n",
              "    </tr>\n",
              "    <tr>\n",
              "      <th>5</th>\n",
              "      <td>5</td>\n",
              "      <td>116</td>\n",
              "      <td>74</td>\n",
              "      <td>0</td>\n",
              "      <td>0</td>\n",
              "      <td>25.6</td>\n",
              "      <td>0.201</td>\n",
              "      <td>30</td>\n",
              "      <td>0</td>\n",
              "    </tr>\n",
              "    <tr>\n",
              "      <th>6</th>\n",
              "      <td>3</td>\n",
              "      <td>78</td>\n",
              "      <td>50</td>\n",
              "      <td>32</td>\n",
              "      <td>88</td>\n",
              "      <td>31.0</td>\n",
              "      <td>0.248</td>\n",
              "      <td>26</td>\n",
              "      <td>1</td>\n",
              "    </tr>\n",
              "    <tr>\n",
              "      <th>7</th>\n",
              "      <td>10</td>\n",
              "      <td>115</td>\n",
              "      <td>0</td>\n",
              "      <td>0</td>\n",
              "      <td>0</td>\n",
              "      <td>35.3</td>\n",
              "      <td>0.134</td>\n",
              "      <td>29</td>\n",
              "      <td>0</td>\n",
              "    </tr>\n",
              "    <tr>\n",
              "      <th>8</th>\n",
              "      <td>2</td>\n",
              "      <td>197</td>\n",
              "      <td>70</td>\n",
              "      <td>45</td>\n",
              "      <td>543</td>\n",
              "      <td>30.5</td>\n",
              "      <td>0.158</td>\n",
              "      <td>53</td>\n",
              "      <td>1</td>\n",
              "    </tr>\n",
              "    <tr>\n",
              "      <th>9</th>\n",
              "      <td>8</td>\n",
              "      <td>125</td>\n",
              "      <td>96</td>\n",
              "      <td>0</td>\n",
              "      <td>0</td>\n",
              "      <td>0.0</td>\n",
              "      <td>0.232</td>\n",
              "      <td>54</td>\n",
              "      <td>1</td>\n",
              "    </tr>\n",
              "  </tbody>\n",
              "</table>\n",
              "</div>"
            ],
            "text/plain": [
              "   Pregnancies  Glucose  BloodPressure  SkinThickness  Insulin   BMI  \\\n",
              "0            6      148             72             35        0  33.6   \n",
              "1            1       85             66             29        0  26.6   \n",
              "2            8      183             64              0        0  23.3   \n",
              "3            1       89             66             23       94  28.1   \n",
              "4            0      137             40             35      168  43.1   \n",
              "5            5      116             74              0        0  25.6   \n",
              "6            3       78             50             32       88  31.0   \n",
              "7           10      115              0              0        0  35.3   \n",
              "8            2      197             70             45      543  30.5   \n",
              "9            8      125             96              0        0   0.0   \n",
              "\n",
              "   DiabetesPedigreeFunction  Age  Outcome  \n",
              "0                     0.627   50        1  \n",
              "1                     0.351   31        0  \n",
              "2                     0.672   32        1  \n",
              "3                     0.167   21        0  \n",
              "4                     2.288   33        1  \n",
              "5                     0.201   30        0  \n",
              "6                     0.248   26        1  \n",
              "7                     0.134   29        0  \n",
              "8                     0.158   53        1  \n",
              "9                     0.232   54        1  "
            ]
          },
          "execution_count": 34,
          "metadata": {},
          "output_type": "execute_result"
        }
      ],
      "source": [
        "dia=pd.read_csv('pima-indians-diabetes.csv')\n",
        "dia.head(10)"
      ]
    },
    {
      "cell_type": "code",
      "execution_count": null,
      "id": "fc241f0e",
      "metadata": {
        "id": "fc241f0e",
        "outputId": "91157434-f3cd-4133-dd8a-305feec052d9"
      },
      "outputs": [
        {
          "data": {
            "text/plain": [
              "(768, 9)"
            ]
          },
          "execution_count": 5,
          "metadata": {},
          "output_type": "execute_result"
        }
      ],
      "source": [
        "dia.shape"
      ]
    },
    {
      "cell_type": "code",
      "execution_count": null,
      "id": "bd3e949a",
      "metadata": {
        "id": "bd3e949a",
        "outputId": "9ccabbe9-8f9a-4e1c-9f4d-c69c2099cdf8"
      },
      "outputs": [
        {
          "data": {
            "text/plain": [
              "Pregnancies                   int64\n",
              "Glucose                       int64\n",
              "BloodPressure                 int64\n",
              "SkinThickness                 int64\n",
              "Insulin                       int64\n",
              "BMI                         float64\n",
              "DiabetesPedigreeFunction    float64\n",
              "Age                           int64\n",
              "Outcome                       int64\n",
              "dtype: object"
            ]
          },
          "execution_count": 7,
          "metadata": {},
          "output_type": "execute_result"
        }
      ],
      "source": [
        "dia.dtypes"
      ]
    },
    {
      "cell_type": "code",
      "execution_count": null,
      "id": "9e1a1151",
      "metadata": {
        "id": "9e1a1151"
      },
      "outputs": [],
      "source": [
        "#Datatypes are perfect , But we can change Outcome to boolean datatype which will save space.\n",
        "\n",
        "dia['Outcome']=dia['Outcome'].astype('bool')"
      ]
    },
    {
      "cell_type": "code",
      "execution_count": null,
      "id": "8cd997a2",
      "metadata": {
        "id": "8cd997a2",
        "outputId": "3d77c8d1-480d-4493-bebc-8821f90f6fd5"
      },
      "outputs": [
        {
          "data": {
            "text/html": [
              "<div>\n",
              "<style scoped>\n",
              "    .dataframe tbody tr th:only-of-type {\n",
              "        vertical-align: middle;\n",
              "    }\n",
              "\n",
              "    .dataframe tbody tr th {\n",
              "        vertical-align: top;\n",
              "    }\n",
              "\n",
              "    .dataframe thead th {\n",
              "        text-align: right;\n",
              "    }\n",
              "</style>\n",
              "<table border=\"1\" class=\"dataframe\">\n",
              "  <thead>\n",
              "    <tr style=\"text-align: right;\">\n",
              "      <th></th>\n",
              "      <th>count</th>\n",
              "      <th>mean</th>\n",
              "      <th>std</th>\n",
              "      <th>min</th>\n",
              "      <th>25%</th>\n",
              "      <th>50%</th>\n",
              "      <th>75%</th>\n",
              "      <th>max</th>\n",
              "    </tr>\n",
              "  </thead>\n",
              "  <tbody>\n",
              "    <tr>\n",
              "      <th>Pregnancies</th>\n",
              "      <td>768.0</td>\n",
              "      <td>3.845052</td>\n",
              "      <td>3.369578</td>\n",
              "      <td>0.000</td>\n",
              "      <td>1.00000</td>\n",
              "      <td>3.0000</td>\n",
              "      <td>6.00000</td>\n",
              "      <td>17.00</td>\n",
              "    </tr>\n",
              "    <tr>\n",
              "      <th>Glucose</th>\n",
              "      <td>768.0</td>\n",
              "      <td>120.894531</td>\n",
              "      <td>31.972618</td>\n",
              "      <td>0.000</td>\n",
              "      <td>99.00000</td>\n",
              "      <td>117.0000</td>\n",
              "      <td>140.25000</td>\n",
              "      <td>199.00</td>\n",
              "    </tr>\n",
              "    <tr>\n",
              "      <th>BloodPressure</th>\n",
              "      <td>768.0</td>\n",
              "      <td>69.105469</td>\n",
              "      <td>19.355807</td>\n",
              "      <td>0.000</td>\n",
              "      <td>62.00000</td>\n",
              "      <td>72.0000</td>\n",
              "      <td>80.00000</td>\n",
              "      <td>122.00</td>\n",
              "    </tr>\n",
              "    <tr>\n",
              "      <th>SkinThickness</th>\n",
              "      <td>768.0</td>\n",
              "      <td>20.536458</td>\n",
              "      <td>15.952218</td>\n",
              "      <td>0.000</td>\n",
              "      <td>0.00000</td>\n",
              "      <td>23.0000</td>\n",
              "      <td>32.00000</td>\n",
              "      <td>99.00</td>\n",
              "    </tr>\n",
              "    <tr>\n",
              "      <th>Insulin</th>\n",
              "      <td>768.0</td>\n",
              "      <td>79.799479</td>\n",
              "      <td>115.244002</td>\n",
              "      <td>0.000</td>\n",
              "      <td>0.00000</td>\n",
              "      <td>30.5000</td>\n",
              "      <td>127.25000</td>\n",
              "      <td>846.00</td>\n",
              "    </tr>\n",
              "    <tr>\n",
              "      <th>BMI</th>\n",
              "      <td>768.0</td>\n",
              "      <td>31.992578</td>\n",
              "      <td>7.884160</td>\n",
              "      <td>0.000</td>\n",
              "      <td>27.30000</td>\n",
              "      <td>32.0000</td>\n",
              "      <td>36.60000</td>\n",
              "      <td>67.10</td>\n",
              "    </tr>\n",
              "    <tr>\n",
              "      <th>DiabetesPedigreeFunction</th>\n",
              "      <td>768.0</td>\n",
              "      <td>0.471876</td>\n",
              "      <td>0.331329</td>\n",
              "      <td>0.078</td>\n",
              "      <td>0.24375</td>\n",
              "      <td>0.3725</td>\n",
              "      <td>0.62625</td>\n",
              "      <td>2.42</td>\n",
              "    </tr>\n",
              "    <tr>\n",
              "      <th>Age</th>\n",
              "      <td>768.0</td>\n",
              "      <td>33.240885</td>\n",
              "      <td>11.760232</td>\n",
              "      <td>21.000</td>\n",
              "      <td>24.00000</td>\n",
              "      <td>29.0000</td>\n",
              "      <td>41.00000</td>\n",
              "      <td>81.00</td>\n",
              "    </tr>\n",
              "    <tr>\n",
              "      <th>Outcome</th>\n",
              "      <td>768.0</td>\n",
              "      <td>0.348958</td>\n",
              "      <td>0.476951</td>\n",
              "      <td>0.000</td>\n",
              "      <td>0.00000</td>\n",
              "      <td>0.0000</td>\n",
              "      <td>1.00000</td>\n",
              "      <td>1.00</td>\n",
              "    </tr>\n",
              "  </tbody>\n",
              "</table>\n",
              "</div>"
            ],
            "text/plain": [
              "                          count        mean         std     min       25%  \\\n",
              "Pregnancies               768.0    3.845052    3.369578   0.000   1.00000   \n",
              "Glucose                   768.0  120.894531   31.972618   0.000  99.00000   \n",
              "BloodPressure             768.0   69.105469   19.355807   0.000  62.00000   \n",
              "SkinThickness             768.0   20.536458   15.952218   0.000   0.00000   \n",
              "Insulin                   768.0   79.799479  115.244002   0.000   0.00000   \n",
              "BMI                       768.0   31.992578    7.884160   0.000  27.30000   \n",
              "DiabetesPedigreeFunction  768.0    0.471876    0.331329   0.078   0.24375   \n",
              "Age                       768.0   33.240885   11.760232  21.000  24.00000   \n",
              "Outcome                   768.0    0.348958    0.476951   0.000   0.00000   \n",
              "\n",
              "                               50%        75%     max  \n",
              "Pregnancies                 3.0000    6.00000   17.00  \n",
              "Glucose                   117.0000  140.25000  199.00  \n",
              "BloodPressure              72.0000   80.00000  122.00  \n",
              "SkinThickness              23.0000   32.00000   99.00  \n",
              "Insulin                    30.5000  127.25000  846.00  \n",
              "BMI                        32.0000   36.60000   67.10  \n",
              "DiabetesPedigreeFunction    0.3725    0.62625    2.42  \n",
              "Age                        29.0000   41.00000   81.00  \n",
              "Outcome                     0.0000    1.00000    1.00  "
            ]
          },
          "execution_count": 8,
          "metadata": {},
          "output_type": "execute_result"
        }
      ],
      "source": [
        "dia.describe().T"
      ]
    },
    {
      "cell_type": "code",
      "execution_count": null,
      "id": "cd4b67ec",
      "metadata": {
        "id": "cd4b67ec"
      },
      "outputs": [],
      "source": [
        "Univariate Analysis\n",
        "In univariate analysis, each variable is analysed individually and we don’t look at more than one variable at a time. It is the simplest and basic form of analysis.\n",
        "Univariate Analysis can be done for two kinds of variables- Categorical and Numerical.\n",
        "\n",
        "Categorical Variables\n",
        "Various Measures of Frequency can be used to analyse a categorical variable by forming frequency tables which counts how often each category of the variable in question occurs and on the basis of such tables, pie and bar charts can also be created. For example, there is a dataset having a variable Continent having three countries as categories. We can count the number of time each category gets repeated\n",
        " \n",
        "Numerical Variable\n",
        "Various descriptive statistics such as Measures of Frequency (count), Shape (skewness, Kurtosis), Variability (Minimum value, Maximum value, Range, Quantile, Variance, Standard Deviation), Central Tendency (Mean, Median, Mode) can be used to explore a numerical variable. The various visualisation techniques that can be used are mainly histogram and box plot."
      ]
    },
    {
      "cell_type": "code",
      "execution_count": null,
      "id": "67da27b4",
      "metadata": {
        "id": "67da27b4"
      },
      "outputs": [],
      "source": [
        "Data is related to healthcare Industry having 768 observations with 9 variable. Target variable is Outcome. It looks like there is no missing value, and boolean, float , integers are different datatypes available. Well descriptive analysis shows that variable Glucose, BoodPressure,SckinThickness, Insulin and BMI have minimum value 0 which does not make any sense, these values are either missing or outliers, I will be treating them later. I can see in Pregnancies column, minimum is 0 (May be this is sign for no pregnancy) which is considerable, But maximum month of pregnancy is 17 which does not make any sense, I will be dealing later. Variance among different predictor variable is varying at large scale , Scaling data will be helpful for Predective modelling."
      ]
    },
    {
      "cell_type": "code",
      "execution_count": null,
      "id": "2b049ac6",
      "metadata": {
        "id": "2b049ac6"
      },
      "outputs": [],
      "source": [
        "#univariate analysis\n",
        "##One variable analysed at a time"
      ]
    },
    {
      "cell_type": "code",
      "execution_count": null,
      "id": "8bd79cfa",
      "metadata": {
        "id": "8bd79cfa",
        "outputId": "a7f679a0-f9e6-4651-bfd9-43caea78e021"
      },
      "outputs": [
        {
          "data": {
            "text/plain": [
              "Pregnancies                   3.845052\n",
              "Glucose                     120.894531\n",
              "BloodPressure                69.105469\n",
              "SkinThickness                20.536458\n",
              "Insulin                      79.799479\n",
              "BMI                          31.992578\n",
              "DiabetesPedigreeFunction      0.471876\n",
              "Age                          33.240885\n",
              "Outcome                       0.348958\n",
              "dtype: float64"
            ]
          },
          "execution_count": 5,
          "metadata": {},
          "output_type": "execute_result"
        }
      ],
      "source": [
        "#Calculating Central Tendency\n",
        "# MEAN -  average value of given numeric values\n",
        "dia.mean()"
      ]
    },
    {
      "cell_type": "code",
      "execution_count": null,
      "id": "4db7c9a5",
      "metadata": {
        "id": "4db7c9a5",
        "outputId": "8ee21535-56c1-4d4b-842f-fa396aa51fcd"
      },
      "outputs": [
        {
          "data": {
            "text/plain": [
              "Pregnancies                   3.0000\n",
              "Glucose                     117.0000\n",
              "BloodPressure                72.0000\n",
              "SkinThickness                23.0000\n",
              "Insulin                      30.5000\n",
              "BMI                          32.0000\n",
              "DiabetesPedigreeFunction      0.3725\n",
              "Age                          29.0000\n",
              "Outcome                       0.0000\n",
              "dtype: float64"
            ]
          },
          "execution_count": 6,
          "metadata": {},
          "output_type": "execute_result"
        }
      ],
      "source": [
        "# Median -  average value of given numeric values\n",
        "dia.median()"
      ]
    },
    {
      "cell_type": "code",
      "execution_count": null,
      "id": "d9b36ae4",
      "metadata": {
        "id": "d9b36ae4",
        "outputId": "1aff9da2-1fc1-440a-d756-591c62c18a11"
      },
      "outputs": [
        {
          "data": {
            "text/html": [
              "<div>\n",
              "<style scoped>\n",
              "    .dataframe tbody tr th:only-of-type {\n",
              "        vertical-align: middle;\n",
              "    }\n",
              "\n",
              "    .dataframe tbody tr th {\n",
              "        vertical-align: top;\n",
              "    }\n",
              "\n",
              "    .dataframe thead th {\n",
              "        text-align: right;\n",
              "    }\n",
              "</style>\n",
              "<table border=\"1\" class=\"dataframe\">\n",
              "  <thead>\n",
              "    <tr style=\"text-align: right;\">\n",
              "      <th></th>\n",
              "      <th>Pregnancies</th>\n",
              "      <th>Glucose</th>\n",
              "      <th>BloodPressure</th>\n",
              "      <th>SkinThickness</th>\n",
              "      <th>Insulin</th>\n",
              "      <th>BMI</th>\n",
              "      <th>DiabetesPedigreeFunction</th>\n",
              "      <th>Age</th>\n",
              "      <th>Outcome</th>\n",
              "    </tr>\n",
              "  </thead>\n",
              "  <tbody>\n",
              "    <tr>\n",
              "      <th>0</th>\n",
              "      <td>1.0</td>\n",
              "      <td>99</td>\n",
              "      <td>70.0</td>\n",
              "      <td>0.0</td>\n",
              "      <td>0.0</td>\n",
              "      <td>32.0</td>\n",
              "      <td>0.254</td>\n",
              "      <td>22.0</td>\n",
              "      <td>0.0</td>\n",
              "    </tr>\n",
              "    <tr>\n",
              "      <th>1</th>\n",
              "      <td>NaN</td>\n",
              "      <td>100</td>\n",
              "      <td>NaN</td>\n",
              "      <td>NaN</td>\n",
              "      <td>NaN</td>\n",
              "      <td>NaN</td>\n",
              "      <td>0.258</td>\n",
              "      <td>NaN</td>\n",
              "      <td>NaN</td>\n",
              "    </tr>\n",
              "  </tbody>\n",
              "</table>\n",
              "</div>"
            ],
            "text/plain": [
              "   Pregnancies  Glucose  BloodPressure  SkinThickness  Insulin   BMI  \\\n",
              "0          1.0       99           70.0            0.0      0.0  32.0   \n",
              "1          NaN      100            NaN            NaN      NaN   NaN   \n",
              "\n",
              "   DiabetesPedigreeFunction   Age  Outcome  \n",
              "0                     0.254  22.0      0.0  \n",
              "1                     0.258   NaN      NaN  "
            ]
          },
          "execution_count": 7,
          "metadata": {},
          "output_type": "execute_result"
        }
      ],
      "source": [
        "#Mode -  most frequently occurring value of given numeric variables\n",
        "dia.mode()"
      ]
    },
    {
      "cell_type": "code",
      "execution_count": null,
      "id": "a47b3cdb",
      "metadata": {
        "id": "a47b3cdb",
        "outputId": "a7022026-e37c-429c-9f62-9a855206d048"
      },
      "outputs": [
        {
          "data": {
            "text/plain": [
              "3.8450520833333335"
            ]
          },
          "execution_count": 9,
          "metadata": {},
          "output_type": "execute_result"
        }
      ],
      "source": [
        "dia['Pregnancies'].mean()"
      ]
    },
    {
      "cell_type": "code",
      "execution_count": null,
      "id": "e60c4000",
      "metadata": {
        "id": "e60c4000",
        "outputId": "d28d7b27-3a85-478d-dcd7-1183c04c4540"
      },
      "outputs": [
        {
          "data": {
            "text/plain": [
              "117.0"
            ]
          },
          "execution_count": 11,
          "metadata": {},
          "output_type": "execute_result"
        }
      ],
      "source": [
        "dia['Glucose'].median()"
      ]
    },
    {
      "cell_type": "code",
      "execution_count": null,
      "id": "26ed1f32",
      "metadata": {
        "id": "26ed1f32",
        "outputId": "142ab2e6-d695-4f0c-e177-8b93fe78a602"
      },
      "outputs": [
        {
          "data": {
            "text/plain": [
              "0    32.0\n",
              "dtype: float64"
            ]
          },
          "execution_count": 12,
          "metadata": {},
          "output_type": "execute_result"
        }
      ],
      "source": [
        "dia['BMI'].mode()"
      ]
    },
    {
      "cell_type": "code",
      "execution_count": null,
      "id": "e21e009f",
      "metadata": {
        "id": "e21e009f"
      },
      "outputs": [],
      "source": [
        "# Dispersion\n",
        "Dispersion is used to define variation present in given variable. Variation means how values are close or away from the mean value"
      ]
    },
    {
      "cell_type": "code",
      "execution_count": null,
      "id": "df4f4133",
      "metadata": {
        "id": "df4f4133",
        "outputId": "908b3189-fbff-4b59-9f9a-75cb5b49756d"
      },
      "outputs": [
        {
          "data": {
            "text/plain": [
              "Pregnancies                    11.354056\n",
              "Glucose                      1022.248314\n",
              "BloodPressure                 374.647271\n",
              "SkinThickness                 254.473245\n",
              "Insulin                     13281.180078\n",
              "BMI                            62.159984\n",
              "DiabetesPedigreeFunction        0.109779\n",
              "Age                           138.303046\n",
              "Outcome                         0.227483\n",
              "dtype: float64"
            ]
          },
          "execution_count": 14,
          "metadata": {},
          "output_type": "execute_result"
        }
      ],
      "source": [
        "#Variance — its gives average deviation from mean value\n",
        "dia.var()\n"
      ]
    },
    {
      "cell_type": "code",
      "execution_count": null,
      "id": "afec3abf",
      "metadata": {
        "id": "afec3abf",
        "outputId": "8ad6257a-4afc-4811-89b7-96de04981815"
      },
      "outputs": [
        {
          "data": {
            "text/plain": [
              "Pregnancies                   3.369578\n",
              "Glucose                      31.972618\n",
              "BloodPressure                19.355807\n",
              "SkinThickness                15.952218\n",
              "Insulin                     115.244002\n",
              "BMI                           7.884160\n",
              "DiabetesPedigreeFunction      0.331329\n",
              "Age                          11.760232\n",
              "Outcome                       0.476951\n",
              "dtype: float64"
            ]
          },
          "execution_count": 15,
          "metadata": {},
          "output_type": "execute_result"
        }
      ],
      "source": [
        "#Standard Deviation — it is square root of variance\n",
        "dia.std()"
      ]
    },
    {
      "cell_type": "code",
      "execution_count": null,
      "id": "ef4c6ba8",
      "metadata": {
        "id": "ef4c6ba8",
        "outputId": "27ce1369-655a-4ab8-b233-bec30e8b5497"
      },
      "outputs": [
        {
          "data": {
            "text/plain": [
              "Pregnancies                  17.000\n",
              "Glucose                     199.000\n",
              "BloodPressure               122.000\n",
              "SkinThickness                99.000\n",
              "Insulin                     846.000\n",
              "BMI                          67.100\n",
              "DiabetesPedigreeFunction      2.342\n",
              "Age                          60.000\n",
              "Outcome                       1.000\n",
              "dtype: float64"
            ]
          },
          "execution_count": 16,
          "metadata": {},
          "output_type": "execute_result"
        }
      ],
      "source": [
        "#Range — it gives difference between max and min value\n",
        "dia.max()-dia.min()"
      ]
    },
    {
      "cell_type": "code",
      "execution_count": null,
      "id": "eecc3a42",
      "metadata": {
        "id": "eecc3a42",
        "outputId": "69dcbd49-e2db-45bd-9dfd-4ab3ac99c292"
      },
      "outputs": [
        {
          "data": {
            "text/plain": [
              "67.1"
            ]
          },
          "execution_count": 17,
          "metadata": {},
          "output_type": "execute_result"
        }
      ],
      "source": [
        "dia['BMI'].max()-dia['BMI'].min()"
      ]
    },
    {
      "cell_type": "code",
      "execution_count": null,
      "id": "ad772321",
      "metadata": {
        "id": "ad772321",
        "outputId": "b82cf829-44a8-40cd-ce0b-bbd9f8095f39"
      },
      "outputs": [
        {
          "data": {
            "text/plain": [
              "0.0"
            ]
          },
          "execution_count": 19,
          "metadata": {},
          "output_type": "execute_result"
        }
      ],
      "source": [
        "dia['BMI'].min()"
      ]
    },
    {
      "cell_type": "code",
      "execution_count": null,
      "id": "8c81056b",
      "metadata": {
        "id": "8c81056b",
        "outputId": "3cc84c65-fe3c-4612-fde3-368536b161be"
      },
      "outputs": [
        {
          "data": {
            "text/html": [
              "<div>\n",
              "<style scoped>\n",
              "    .dataframe tbody tr th:only-of-type {\n",
              "        vertical-align: middle;\n",
              "    }\n",
              "\n",
              "    .dataframe tbody tr th {\n",
              "        vertical-align: top;\n",
              "    }\n",
              "\n",
              "    .dataframe thead th {\n",
              "        text-align: right;\n",
              "    }\n",
              "</style>\n",
              "<table border=\"1\" class=\"dataframe\">\n",
              "  <thead>\n",
              "    <tr style=\"text-align: right;\">\n",
              "      <th></th>\n",
              "      <th>Pregnancies</th>\n",
              "      <th>Glucose</th>\n",
              "      <th>BloodPressure</th>\n",
              "      <th>SkinThickness</th>\n",
              "      <th>Insulin</th>\n",
              "      <th>BMI</th>\n",
              "      <th>DiabetesPedigreeFunction</th>\n",
              "      <th>Age</th>\n",
              "      <th>Outcome</th>\n",
              "    </tr>\n",
              "  </thead>\n",
              "  <tbody>\n",
              "    <tr>\n",
              "      <th>0.25</th>\n",
              "      <td>1.0</td>\n",
              "      <td>99.00</td>\n",
              "      <td>62.0</td>\n",
              "      <td>0.0</td>\n",
              "      <td>0.00</td>\n",
              "      <td>27.3</td>\n",
              "      <td>0.24375</td>\n",
              "      <td>24.0</td>\n",
              "      <td>0.0</td>\n",
              "    </tr>\n",
              "    <tr>\n",
              "      <th>0.50</th>\n",
              "      <td>3.0</td>\n",
              "      <td>117.00</td>\n",
              "      <td>72.0</td>\n",
              "      <td>23.0</td>\n",
              "      <td>30.50</td>\n",
              "      <td>32.0</td>\n",
              "      <td>0.37250</td>\n",
              "      <td>29.0</td>\n",
              "      <td>0.0</td>\n",
              "    </tr>\n",
              "    <tr>\n",
              "      <th>0.75</th>\n",
              "      <td>6.0</td>\n",
              "      <td>140.25</td>\n",
              "      <td>80.0</td>\n",
              "      <td>32.0</td>\n",
              "      <td>127.25</td>\n",
              "      <td>36.6</td>\n",
              "      <td>0.62625</td>\n",
              "      <td>41.0</td>\n",
              "      <td>1.0</td>\n",
              "    </tr>\n",
              "  </tbody>\n",
              "</table>\n",
              "</div>"
            ],
            "text/plain": [
              "      Pregnancies  Glucose  BloodPressure  SkinThickness  Insulin   BMI  \\\n",
              "0.25          1.0    99.00           62.0            0.0     0.00  27.3   \n",
              "0.50          3.0   117.00           72.0           23.0    30.50  32.0   \n",
              "0.75          6.0   140.25           80.0           32.0   127.25  36.6   \n",
              "\n",
              "      DiabetesPedigreeFunction   Age  Outcome  \n",
              "0.25                   0.24375  24.0      0.0  \n",
              "0.50                   0.37250  29.0      0.0  \n",
              "0.75                   0.62625  41.0      1.0  "
            ]
          },
          "execution_count": 22,
          "metadata": {},
          "output_type": "execute_result"
        }
      ],
      "source": [
        "#InterQuartile Range(IQR) — it gives difference between Q3 and Q1, where Q3 is 3rd Quartile value and Q1 is 1st Quartile value.\n",
        "dia.quantile([.25,.50,.75])"
      ]
    },
    {
      "cell_type": "code",
      "execution_count": null,
      "id": "a08e47f7",
      "metadata": {
        "id": "a08e47f7",
        "outputId": "eabc4ff0-07de-44ba-8205-2fd44c873469"
      },
      "outputs": [
        {
          "ename": "SyntaxError",
          "evalue": "invalid syntax (Temp/ipykernel_11240/480457303.py, line 2)",
          "output_type": "error",
          "traceback": [
            "\u001b[1;36m  File \u001b[1;32m\"C:\\Users\\91638\\AppData\\Local\\Temp/ipykernel_11240/480457303.py\"\u001b[1;36m, line \u001b[1;32m2\u001b[0m\n\u001b[1;33m    Skewness is used to measure symmetry of data along with the mean value. Symmetry means equal distribution of observation above or below the mean.\u001b[0m\n\u001b[1;37m                     ^\u001b[0m\n\u001b[1;31mSyntaxError\u001b[0m\u001b[1;31m:\u001b[0m invalid syntax\n"
          ]
        }
      ],
      "source": [
        "#Skewness\n",
        "Skewness is used to measure symmetry of data along with the mean value. Symmetry means equal distribution of observation above or below the mean.\n",
        "\n",
        "##skewness = 0: if data is symmetric along with mean\n",
        "\n",
        "##skewness = Negative: if data is not symmetric and right side tail is longer than left side tail of density plot.\n",
        "\n",
        "##skewness = Positive: if data is not symmetric and left side tail is longer than right side tail in density plot.\n",
        "\n",
        "dia['BMI'].skew()"
      ]
    },
    {
      "cell_type": "code",
      "execution_count": null,
      "id": "c849c59c",
      "metadata": {
        "id": "c849c59c",
        "outputId": "1b48620b-97d7-41bd-b14d-8447b714b157"
      },
      "outputs": [
        {
          "data": {
            "text/plain": [
              "-0.42898158845356543"
            ]
          },
          "execution_count": 27,
          "metadata": {},
          "output_type": "execute_result"
        }
      ],
      "source": [
        "dia['BMI'].skew()"
      ]
    },
    {
      "cell_type": "code",
      "execution_count": null,
      "id": "4c8acf0c",
      "metadata": {
        "id": "4c8acf0c",
        "outputId": "5e072410-b037-4e48-9c1b-15934df697e9"
      },
      "outputs": [
        {
          "data": {
            "text/plain": [
              "Pregnancies                 0.901674\n",
              "Glucose                     0.173754\n",
              "BloodPressure              -1.843608\n",
              "SkinThickness               0.109372\n",
              "Insulin                     2.272251\n",
              "BMI                        -0.428982\n",
              "DiabetesPedigreeFunction    1.919911\n",
              "Age                         1.129597\n",
              "Outcome                     0.635017\n",
              "dtype: float64"
            ]
          },
          "execution_count": 29,
          "metadata": {},
          "output_type": "execute_result"
        }
      ],
      "source": [
        "dia.skew()"
      ]
    },
    {
      "cell_type": "code",
      "execution_count": null,
      "id": "6c9f76c9",
      "metadata": {
        "id": "6c9f76c9"
      },
      "outputs": [],
      "source": [
        "#Kurtosis is used to defined peakedness ( or flatness) of density plot (normal distribution plot). \n",
        "\n",
        "##kurtosis = 0: if peakedness of graph is equal to normal distribution.\n",
        "\n",
        "##kurtosis = Negative: if peakedness of graph is less than normal distribution(flat plot)\n",
        "\n",
        "##kurtosis = Positive: if peakedness of graph is more than normal distribution (more peaked plot)"
      ]
    },
    {
      "cell_type": "code",
      "execution_count": null,
      "id": "53998da9",
      "metadata": {
        "id": "53998da9",
        "outputId": "818caacd-bde3-47bf-c9a7-72a92981cdc1"
      },
      "outputs": [
        {
          "data": {
            "text/plain": [
              "Pregnancies                 0.159220\n",
              "Glucose                     0.640780\n",
              "BloodPressure               5.180157\n",
              "SkinThickness              -0.520072\n",
              "Insulin                     7.214260\n",
              "BMI                         3.290443\n",
              "DiabetesPedigreeFunction    5.594954\n",
              "Age                         0.643159\n",
              "Outcome                    -1.600930\n",
              "dtype: float64"
            ]
          },
          "execution_count": 30,
          "metadata": {},
          "output_type": "execute_result"
        }
      ],
      "source": [
        "dia.kurt()"
      ]
    },
    {
      "cell_type": "code",
      "execution_count": null,
      "id": "ed8d98ce",
      "metadata": {
        "id": "ed8d98ce",
        "outputId": "7206e4eb-3966-4b59-aee0-3ecfeffa81ef"
      },
      "outputs": [
        {
          "name": "stderr",
          "output_type": "stream",
          "text": [
            "C:\\Users\\91638\\anaconda3\\lib\\site-packages\\seaborn\\distributions.py:2619: FutureWarning: `distplot` is a deprecated function and will be removed in a future version. Please adapt your code to use either `displot` (a figure-level function with similar flexibility) or `histplot` (an axes-level function for histograms).\n",
            "  warnings.warn(msg, FutureWarning)\n"
          ]
        },
        {
          "data": {
            "text/plain": [
              "<AxesSubplot:ylabel='Density'>"
            ]
          },
          "execution_count": 31,
          "metadata": {},
          "output_type": "execute_result"
        },
        {
          "data": {
            "image/png": "[encoded data removed]",
            "text/plain": [
              "<Figure size 432x288 with 1 Axes>"
            ]
          },
          "metadata": {},
          "output_type": "display_data"
        }
      ],
      "source": [
        "import seaborn as sns\n",
        "sns.distplot(dia,hist=True,kde=True)"
      ]
    },
    {
      "cell_type": "code",
      "execution_count": null,
      "id": "91925034",
      "metadata": {
        "id": "91925034",
        "outputId": "7623abf2-c161-40e8-a270-e8fe27827a95"
      },
      "outputs": [
        {
          "data": {
            "text/plain": [
              "<AxesSubplot:>"
            ]
          },
          "execution_count": 36,
          "metadata": {},
          "output_type": "execute_result"
        },
        {
          "data": {
            "image/png": "[encoded data removed]",
            "text/plain": [
              "<Figure size 432x288 with 1 Axes>"
            ]
          },
          "metadata": {},
          "output_type": "display_data"
        }
      ],
      "source": [
        "dia.boxplot(column=\"Pregnancies\",vert=False)"
      ]
    },
    {
      "cell_type": "code",
      "execution_count": null,
      "id": "fc003199",
      "metadata": {
        "id": "fc003199",
        "outputId": "f946cb81-0f32-4e2c-c71b-f55d2b922329"
      },
      "outputs": [
        {
          "data": {
            "text/plain": [
              "<AxesSubplot:>"
            ]
          },
          "execution_count": 39,
          "metadata": {},
          "output_type": "execute_result"
        },
        {
          "data": {
            "image/png": "[encoded data removed]",
            "text/plain": [
              "<Figure size 432x288 with 1 Axes>"
            ]
          },
          "metadata": {},
          "output_type": "display_data"
        }
      ],
      "source": [
        "dia.boxplot(column=\"Glucose\",vert=False)"
      ]
    },
    {
      "cell_type": "code",
      "execution_count": null,
      "id": "e7d0bab8",
      "metadata": {
        "id": "e7d0bab8",
        "outputId": "341501e1-ea7c-46fe-fafb-b99dac28dec1"
      },
      "outputs": [
        {
          "data": {
            "text/plain": [
              "<AxesSubplot:>"
            ]
          },
          "execution_count": 40,
          "metadata": {},
          "output_type": "execute_result"
        },
        {
          "data": {
            "image/png": "[encoded data removed]",
            "text/plain": [
              "<Figure size 432x288 with 1 Axes>"
            ]
          },
          "metadata": {},
          "output_type": "display_data"
        }
      ],
      "source": [
        "dia.boxplot(column=\"BloodPressure\",vert=False)"
      ]
    },
    {
      "cell_type": "code",
      "execution_count": null,
      "id": "0eb6d884",
      "metadata": {
        "id": "0eb6d884",
        "outputId": "3037ac80-371a-4a2e-f70e-d4525eed5c21"
      },
      "outputs": [
        {
          "data": {
            "text/plain": [
              "<AxesSubplot:>"
            ]
          },
          "execution_count": 41,
          "metadata": {},
          "output_type": "execute_result"
        },
        {
          "data": {
            "image/png": "[encoded data removed]",
            "text/plain": [
              "<Figure size 432x288 with 1 Axes>"
            ]
          },
          "metadata": {},
          "output_type": "display_data"
        }
      ],
      "source": [
        "dia.boxplot(column=\"SkinThickness\",vert=False)"
      ]
    },
    {
      "cell_type": "code",
      "execution_count": null,
      "id": "b2aacc52",
      "metadata": {
        "id": "b2aacc52",
        "outputId": "b4b1adbb-1e16-4149-8445-e5268b49911d"
      },
      "outputs": [
        {
          "data": {
            "text/plain": [
              "<AxesSubplot:>"
            ]
          },
          "execution_count": 43,
          "metadata": {},
          "output_type": "execute_result"
        },
        {
          "data": {
            "image/png": "[encoded data removed]",
            "text/plain": [
              "<Figure size 432x288 with 1 Axes>"
            ]
          },
          "metadata": {},
          "output_type": "display_data"
        }
      ],
      "source": [
        "dia.boxplot(column=\"Glucose\",vert=False)"
      ]
    },
    {
      "cell_type": "code",
      "execution_count": null,
      "id": "01a988ab",
      "metadata": {
        "id": "01a988ab",
        "outputId": "8d4f79fa-76ce-402a-b45f-91ada5c88fc1"
      },
      "outputs": [
        {
          "data": {
            "text/plain": [
              "<AxesSubplot:>"
            ]
          },
          "execution_count": 42,
          "metadata": {},
          "output_type": "execute_result"
        },
        {
          "data": {
            "image/png": "[encoded data removed]",
            "text/plain": [
              "<Figure size 432x288 with 1 Axes>"
            ]
          },
          "metadata": {},
          "output_type": "display_data"
        }
      ],
      "source": [
        "dia.boxplot(column=\"Insulin\",vert=False)"
      ]
    },
    {
      "cell_type": "code",
      "execution_count": null,
      "id": "85b0354c",
      "metadata": {
        "id": "85b0354c",
        "outputId": "fea977ea-d5c2-42eb-c15d-dfe36d8c5d0f"
      },
      "outputs": [
        {
          "data": {
            "text/plain": [
              "<AxesSubplot:>"
            ]
          },
          "execution_count": 45,
          "metadata": {},
          "output_type": "execute_result"
        },
        {
          "data": {
            "image/png": "[encoded data removed]",
            "text/plain": [
              "<Figure size 432x288 with 1 Axes>"
            ]
          },
          "metadata": {},
          "output_type": "display_data"
        }
      ],
      "source": [
        "dia.boxplot(column=\"BMI\",vert=False)"
      ]
    },
    {
      "cell_type": "code",
      "execution_count": null,
      "id": "045f0aa4",
      "metadata": {
        "id": "045f0aa4"
      },
      "outputs": [],
      "source": [
        ""
      ]
    },
    {
      "cell_type": "code",
      "execution_count": null,
      "id": "aaab416c",
      "metadata": {
        "id": "aaab416c"
      },
      "outputs": [],
      "source": [
        ""
      ]
    }
  ],
  "metadata": {
    "kernelspec": {
      "display_name": "Python 3 (ipykernel)",
      "language": "python",
      "name": "python3"
    },
    "language_info": {
      "codemirror_mode": {
        "name": "ipython",
        "version": 3
      },
      "file_extension": ".py",
      "mimetype": "text/x-python",
      "name": "python",
      "nbconvert_exporter": "python",
      "pygments_lexer": "ipython3",
      "version": "3.9.7"
    },
    "colab": {
      "name": "session 3.ipynb",
      "provenance": [],
      "include_colab_link": true
    }
  },
  "nbformat": 4,
  "nbformat_minor": 5
}